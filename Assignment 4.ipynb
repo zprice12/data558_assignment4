{
 "cells": [
  {
   "cell_type": "code",
   "execution_count": 237,
   "id": "96f204d9",
   "metadata": {},
   "outputs": [],
   "source": [
    "import numpy as np\n",
    "import pandas as pd\n",
    "import itertools as iterat\n",
    "import statsmodels.api as sm\n",
    "from ISLP.models import (ModelSpec as MS,summarize)\n",
    "from sklearn.linear_model import Ridge, RidgeCV, Lasso, LassoCV, ElasticNet, ElasticNetCV, LogisticRegression, LogisticRegressionCV\n",
    "import matplotlib.pyplot as plt\n",
    "from sklearn.metrics import mean_squared_error\n",
    "from sklearn.preprocessing import StandardScaler\n",
    "import warnings\n",
    "warnings.filterwarnings('ignore')"
   ]
  },
  {
   "cell_type": "markdown",
   "id": "1110723b",
   "metadata": {},
   "source": [
    "### Problem 1"
   ]
  },
  {
   "cell_type": "code",
   "execution_count": 244,
   "id": "91e58601",
   "metadata": {},
   "outputs": [],
   "source": [
    "np.random.seed(1)\n",
    "x0 = np.random.normal(1, 0, 200)\n",
    "x1 = np.random.normal(0, 5, 200)\n",
    "x2 = np.random.normal(0, 5, 200)\n",
    "x3 = np.random.normal(0, 5, 200)\n",
    "x4 = np.random.normal(0, 5, 200)\n",
    "x5 = np.random.normal(0, 5, 200)\n",
    "x6 = np.random.normal(0, 5, 200)\n",
    "x7 = np.random.normal(0, 5, 200)\n",
    "x8 = np.random.normal(0, 5, 200)\n",
    "x9 = np.random.normal(0, 5, 200)\n",
    "x10 = np.random.normal(0, 5, 200)\n",
    "e = np.random.normal(0, 1, 200)\n",
    "xs = np.matrix([x0,x1,x2,x3,x4,x5,x6,x7,x8,x9,x10,e]).T\n",
    "coefs = np.matrix([0, 1, 1, 0.1, 0.05, 0.01, 0.005, 0.001, 0.0005, 0.0001, 0, 1])\n",
    "y = np.dot(xs, coefs.T)\n",
    "xs = np.matrix([x1,x2,x3,x4,x5,x6,x7,x8,x9,x10]).T\n",
    "column_values = ['x1', 'x2', 'x3', 'x4', 'x5', 'x6', 'x7', 'x8', 'x9', 'x10']\n",
    "x_train = pd.DataFrame(data = xs[:100,:], columns = column_values)\n",
    "x_test = pd.DataFrame(data = xs[100:,:], columns = column_values)\n",
    "y_train = pd.DataFrame(data = y[:100,:], columns = ['y'])\n",
    "y_test = pd.DataFrame(data = y[100:,:], columns = ['y'])"
   ]
  },
  {
   "cell_type": "markdown",
   "id": "644200b2",
   "metadata": {},
   "source": [
    "#### (a)"
   ]
  },
  {
   "cell_type": "code",
   "execution_count": 192,
   "id": "3b65e1b2",
   "metadata": {},
   "outputs": [],
   "source": [
    "def fitSubset(features):\n",
    "    x_cur = x_train[list(features)]\n",
    "    complexity = x_cur.shape[1]\n",
    "    x_cur['intercept']  = 1\n",
    "    regres = sm.OLS(y_train, x_cur)\n",
    "    results = regres.fit()\n",
    "    bic = results.bic\n",
    "    pred_train = results.predict(x_cur)\n",
    "    y_train2 = y_train.y\n",
    "    mse = (np.mean((y_train2 - pred_train)**2))\n",
    "    return {\"complexity\":complexity, \"model\":results, \"MSE\":mse, \"BIC\":bic}"
   ]
  },
  {
   "cell_type": "code",
   "execution_count": 193,
   "id": "ea71c41b",
   "metadata": {},
   "outputs": [],
   "source": [
    "def modelK(k):    \n",
    "    models = []\n",
    "    for feats in iterat.combinations(x_train.columns, k):\n",
    "        models.append(fitSubset(feats))\n",
    "    result = pd.DataFrame(models)\n",
    "    best_feat = result.loc[result[\"MSE\"].argmin()]\n",
    "    return best_feat"
   ]
  },
  {
   "cell_type": "code",
   "execution_count": 194,
   "id": "260e041c",
   "metadata": {},
   "outputs": [],
   "source": [
    "best_models = pd.DataFrame(columns=[\"complexity\", \"model\", \"MSE\", \"BIC\"])\n",
    "for i in range(1,11):\n",
    "    best_models.loc[i-1] = modelK(i)\n",
    "best_models['BIC'] = best_models['BIC'].astype(float)\n",
    "best_model = best_models.loc[best_models[\"BIC\"].argmin()]"
   ]
  },
  {
   "cell_type": "code",
   "execution_count": 195,
   "id": "40514548",
   "metadata": {},
   "outputs": [
    {
     "name": "stdout",
     "output_type": "stream",
     "text": [
      "1.2807623133629022\n"
     ]
    },
    {
     "data": {
      "text/html": [
       "<div>\n",
       "<style scoped>\n",
       "    .dataframe tbody tr th:only-of-type {\n",
       "        vertical-align: middle;\n",
       "    }\n",
       "\n",
       "    .dataframe tbody tr th {\n",
       "        vertical-align: top;\n",
       "    }\n",
       "\n",
       "    .dataframe thead th {\n",
       "        text-align: right;\n",
       "    }\n",
       "</style>\n",
       "<table border=\"1\" class=\"dataframe\">\n",
       "  <thead>\n",
       "    <tr style=\"text-align: right;\">\n",
       "      <th></th>\n",
       "      <th>coef</th>\n",
       "      <th>std err</th>\n",
       "      <th>t</th>\n",
       "      <th>P&gt;|t|</th>\n",
       "    </tr>\n",
       "  </thead>\n",
       "  <tbody>\n",
       "    <tr>\n",
       "      <th>x1</th>\n",
       "      <td>0.9728</td>\n",
       "      <td>0.021</td>\n",
       "      <td>46.266</td>\n",
       "      <td>0.000</td>\n",
       "    </tr>\n",
       "    <tr>\n",
       "      <th>x2</th>\n",
       "      <td>0.9844</td>\n",
       "      <td>0.021</td>\n",
       "      <td>47.620</td>\n",
       "      <td>0.000</td>\n",
       "    </tr>\n",
       "    <tr>\n",
       "      <th>x3</th>\n",
       "      <td>0.1279</td>\n",
       "      <td>0.022</td>\n",
       "      <td>5.689</td>\n",
       "      <td>0.000</td>\n",
       "    </tr>\n",
       "    <tr>\n",
       "      <th>x4</th>\n",
       "      <td>0.0646</td>\n",
       "      <td>0.023</td>\n",
       "      <td>2.864</td>\n",
       "      <td>0.005</td>\n",
       "    </tr>\n",
       "    <tr>\n",
       "      <th>x8</th>\n",
       "      <td>-0.0423</td>\n",
       "      <td>0.018</td>\n",
       "      <td>-2.316</td>\n",
       "      <td>0.023</td>\n",
       "    </tr>\n",
       "    <tr>\n",
       "      <th>intercept</th>\n",
       "      <td>0.0830</td>\n",
       "      <td>0.105</td>\n",
       "      <td>0.789</td>\n",
       "      <td>0.432</td>\n",
       "    </tr>\n",
       "  </tbody>\n",
       "</table>\n",
       "</div>"
      ],
      "text/plain": [
       "             coef  std err       t  P>|t|\n",
       "x1         0.9728    0.021  46.266  0.000\n",
       "x2         0.9844    0.021  47.620  0.000\n",
       "x3         0.1279    0.022   5.689  0.000\n",
       "x4         0.0646    0.023   2.864  0.005\n",
       "x8        -0.0423    0.018  -2.316  0.023\n",
       "intercept  0.0830    0.105   0.789  0.432"
      ]
     },
     "execution_count": 195,
     "metadata": {},
     "output_type": "execute_result"
    }
   ],
   "source": [
    "final_model = best_model[1]\n",
    "x_test2 = x_test[['x1', 'x2', 'x3', 'x4', 'x8']]\n",
    "x_test2['intercept'] = 1\n",
    "pred_test = final_model.predict(x_test2)\n",
    "y_test2 = y_test.y\n",
    "mse = (np.mean((y_test2 - pred_test)**2))\n",
    "print(mse)\n",
    "summarize(final_model)"
   ]
  },
  {
   "cell_type": "markdown",
   "id": "9ff2ba62",
   "metadata": {},
   "source": [
    "#### (b)"
   ]
  },
  {
   "cell_type": "code",
   "execution_count": 196,
   "id": "e71ebbb4",
   "metadata": {},
   "outputs": [],
   "source": [
    "def fitSubset2(features):\n",
    "    x_cur = x_train[list(features)]\n",
    "    complexity = x_cur.shape[1]\n",
    "    regres = sm.OLS(y_train, x_cur)\n",
    "    results = regres.fit()\n",
    "    bic = results.bic\n",
    "    pred_train = results.predict(x_cur)\n",
    "    y_train2 = y_train.y\n",
    "    mse = (np.mean((y_train2 - pred_train)**2))\n",
    "    return {\"complexity\":complexity, \"model\":results, \"MSE\":mse, \"BIC\":bic}"
   ]
  },
  {
   "cell_type": "code",
   "execution_count": 197,
   "id": "776b682d",
   "metadata": {},
   "outputs": [],
   "source": [
    "def modelForward(preds):    \n",
    "    models = []\n",
    "    left_preds = [pred for pred in x_train.columns if pred not in preds]\n",
    "    for feat in left_preds:\n",
    "        models.append(fitSubset2(preds+[feat]))\n",
    "    result = pd.DataFrame(models)\n",
    "    best_feat = result.loc[result[\"MSE\"].argmin()]\n",
    "    return best_feat"
   ]
  },
  {
   "cell_type": "code",
   "execution_count": 198,
   "id": "83dc1d9e",
   "metadata": {},
   "outputs": [],
   "source": [
    "best_models2 = pd.DataFrame(columns=[\"complexity\", \"model\", \"MSE\", \"BIC\"])\n",
    "features = []\n",
    "for i in range(1,11):\n",
    "    best_models2.loc[i-1] = modelForward(features)\n",
    "    features = best_models2.loc[i-1][\"model\"].model.exog_names\n",
    "best_models2['BIC'] = best_models2['BIC'].astype(float)\n",
    "best_model2 = best_models2.loc[best_models2[\"BIC\"].argmin()]"
   ]
  },
  {
   "cell_type": "code",
   "execution_count": 199,
   "id": "97d33249",
   "metadata": {},
   "outputs": [
    {
     "name": "stdout",
     "output_type": "stream",
     "text": [
      "1.2807623133629\n"
     ]
    },
    {
     "data": {
      "text/html": [
       "<div>\n",
       "<style scoped>\n",
       "    .dataframe tbody tr th:only-of-type {\n",
       "        vertical-align: middle;\n",
       "    }\n",
       "\n",
       "    .dataframe tbody tr th {\n",
       "        vertical-align: top;\n",
       "    }\n",
       "\n",
       "    .dataframe thead th {\n",
       "        text-align: right;\n",
       "    }\n",
       "</style>\n",
       "<table border=\"1\" class=\"dataframe\">\n",
       "  <thead>\n",
       "    <tr style=\"text-align: right;\">\n",
       "      <th></th>\n",
       "      <th>coef</th>\n",
       "      <th>std err</th>\n",
       "      <th>t</th>\n",
       "      <th>P&gt;|t|</th>\n",
       "    </tr>\n",
       "  </thead>\n",
       "  <tbody>\n",
       "    <tr>\n",
       "      <th>x2</th>\n",
       "      <td>0.9844</td>\n",
       "      <td>0.021</td>\n",
       "      <td>47.620</td>\n",
       "      <td>0.000</td>\n",
       "    </tr>\n",
       "    <tr>\n",
       "      <th>x1</th>\n",
       "      <td>0.9728</td>\n",
       "      <td>0.021</td>\n",
       "      <td>46.266</td>\n",
       "      <td>0.000</td>\n",
       "    </tr>\n",
       "    <tr>\n",
       "      <th>x3</th>\n",
       "      <td>0.1279</td>\n",
       "      <td>0.022</td>\n",
       "      <td>5.689</td>\n",
       "      <td>0.000</td>\n",
       "    </tr>\n",
       "    <tr>\n",
       "      <th>x4</th>\n",
       "      <td>0.0646</td>\n",
       "      <td>0.023</td>\n",
       "      <td>2.864</td>\n",
       "      <td>0.005</td>\n",
       "    </tr>\n",
       "    <tr>\n",
       "      <th>x8</th>\n",
       "      <td>-0.0423</td>\n",
       "      <td>0.018</td>\n",
       "      <td>-2.316</td>\n",
       "      <td>0.023</td>\n",
       "    </tr>\n",
       "    <tr>\n",
       "      <th>intercept</th>\n",
       "      <td>0.0830</td>\n",
       "      <td>0.105</td>\n",
       "      <td>0.789</td>\n",
       "      <td>0.432</td>\n",
       "    </tr>\n",
       "  </tbody>\n",
       "</table>\n",
       "</div>"
      ],
      "text/plain": [
       "             coef  std err       t  P>|t|\n",
       "x2         0.9844    0.021  47.620  0.000\n",
       "x1         0.9728    0.021  46.266  0.000\n",
       "x3         0.1279    0.022   5.689  0.000\n",
       "x4         0.0646    0.023   2.864  0.005\n",
       "x8        -0.0423    0.018  -2.316  0.023\n",
       "intercept  0.0830    0.105   0.789  0.432"
      ]
     },
     "execution_count": 199,
     "metadata": {},
     "output_type": "execute_result"
    }
   ],
   "source": [
    "x_trainF = x_train[['x2', 'x1', 'x3', 'x4', 'x8']]\n",
    "x_trainF['intercept']  = 1\n",
    "regres = sm.OLS(y_train, x_trainF)\n",
    "final_model = regres.fit()\n",
    "x_test3 = x_test[['x2', 'x1', 'x3', 'x4', 'x8']]\n",
    "x_test3['intercept'] = 1\n",
    "pred_test = final_model.predict(x_test3)\n",
    "y_test3 = y_test.y\n",
    "mse = (np.mean((y_test3 - pred_test)**2))\n",
    "print(mse)\n",
    "summarize(final_model)"
   ]
  },
  {
   "cell_type": "markdown",
   "id": "0436f639",
   "metadata": {},
   "source": [
    "#### (c)"
   ]
  },
  {
   "cell_type": "code",
   "execution_count": 240,
   "id": "13d450db",
   "metadata": {},
   "outputs": [
    {
     "data": {
      "image/png": "[encoded data removed]",
      "text/plain": [
       "<Figure size 432x288 with 1 Axes>"
      ]
     },
     "metadata": {
      "needs_background": "light"
     },
     "output_type": "display_data"
    }
   ],
   "source": [
    "alphas = 20**np.linspace(5,-5,100)\n",
    "coefs = pd.DataFrame(columns=['x1', 'x2', 'x3', 'x4', 'x5', 'x6', 'x7', 'x8', 'x9', 'x10', 'alpha'])\n",
    "x_train3 = x_train.copy()\n",
    "x_scale = StandardScaler().fit(x_train3)\n",
    "lasso = Lasso(normalize = True)\n",
    "i = 0\n",
    "for alpha in alphas:\n",
    "    lasso.set_params(alpha = alpha)\n",
    "    lasso.fit(x_scale.transform(x_train3), y_train)\n",
    "    coefs.loc[i] = np.append(lasso.coef_, alpha)\n",
    "    i += 1\n",
    "ax = plt.gca()\n",
    "ax.plot(alphas, coefs['x1'], label = 'x1')\n",
    "ax.plot(alphas, coefs['x2'], label = 'x2')\n",
    "ax.plot(alphas, coefs['x3'], label = 'x3')\n",
    "ax.plot(alphas, coefs['x4'], label = 'x4')\n",
    "ax.plot(alphas, coefs['x5'], label = 'x5')\n",
    "ax.plot(alphas, coefs['x6'], label = 'x6')\n",
    "ax.plot(alphas, coefs['x7'], label = 'x7')\n",
    "ax.plot(alphas, coefs['x8'], label = 'x8')\n",
    "ax.plot(alphas, coefs['x9'], label = 'x9')\n",
    "ax.plot(alphas, coefs['x10'], label = 'x10')\n",
    "ax.set_xscale('log')\n",
    "plt.xlabel('Alpha')\n",
    "plt.ylabel('Standardized Coefficients')\n",
    "plt.legend()\n",
    "plt.show()"
   ]
  },
  {
   "cell_type": "code",
   "execution_count": 241,
   "id": "019dd57a",
   "metadata": {},
   "outputs": [
    {
     "name": "stdout",
     "output_type": "stream",
     "text": [
      "0.00678604404148726\n",
      "1.2853898315920083\n",
      "[ 4.82008377  5.05323212  0.58718334  0.2247908   0.12688074 -0.\n",
      "  0.         -0.19026895 -0.          0.06206416]\n"
     ]
    }
   ],
   "source": [
    "lassoCv = LassoCV(alphas = alphas, cv = 5, normalize = True)\n",
    "lassoCv.fit(x_scale.transform(x_train3), y_train)\n",
    "print(lassoCv.alpha_)\n",
    "lassoF = Lasso(alpha = lassoCv.alpha_, normalize = True)\n",
    "lassoResult = lassoF.fit(x_scale.transform(x_train3), y_train)\n",
    "x_test4 = x_test.copy()\n",
    "print(mean_squared_error(y_test, lassoResult.predict(x_scale.transform(x_test4))))\n",
    "print(lassoResult.coef_)"
   ]
  },
  {
   "cell_type": "markdown",
   "id": "ddbb2d07",
   "metadata": {},
   "source": [
    "#### (d)"
   ]
  },
  {
   "cell_type": "code",
   "execution_count": 242,
   "id": "8fe62c30",
   "metadata": {},
   "outputs": [
    {
     "data": {
      "image/png": "[encoded data removed]",
      "text/plain": [
       "<Figure size 432x288 with 1 Axes>"
      ]
     },
     "metadata": {
      "needs_background": "light"
     },
     "output_type": "display_data"
    }
   ],
   "source": [
    "alphas = 20**np.linspace(5,-5,100)\n",
    "coefs = pd.DataFrame(columns=['x1', 'x2', 'x3', 'x4', 'x5', 'x6', 'x7', 'x8', 'x9', 'x10', 'alpha'])\n",
    "x_train3 = x_train.copy()\n",
    "x_scale = StandardScaler().fit(x_train3)\n",
    "ridge = Ridge(normalize = True)\n",
    "i = 0\n",
    "for alpha in alphas:\n",
    "    ridge.set_params(alpha = alpha)\n",
    "    ridge.fit(x_scale.transform(x_train3), y_train)\n",
    "    coefs.loc[i] = np.append(ridge.coef_, alpha)\n",
    "    i += 1\n",
    "ax = plt.gca()\n",
    "ax.plot(alphas, coefs['x1'], label = 'x1')\n",
    "ax.plot(alphas, coefs['x2'], label = 'x2')\n",
    "ax.plot(alphas, coefs['x3'], label = 'x3')\n",
    "ax.plot(alphas, coefs['x4'], label = 'x4')\n",
    "ax.plot(alphas, coefs['x5'], label = 'x5')\n",
    "ax.plot(alphas, coefs['x6'], label = 'x6')\n",
    "ax.plot(alphas, coefs['x7'], label = 'x7')\n",
    "ax.plot(alphas, coefs['x8'], label = 'x8')\n",
    "ax.plot(alphas, coefs['x9'], label = 'x9')\n",
    "ax.plot(alphas, coefs['x10'], label = 'x10')\n",
    "ax.set_xscale('log')\n",
    "plt.xlabel('Alpha')\n",
    "plt.ylabel('Standardized Coefficients')\n",
    "plt.legend()\n",
    "plt.show()"
   ]
  },
  {
   "cell_type": "code",
   "execution_count": 243,
   "id": "fa758684",
   "metadata": {},
   "outputs": [
    {
     "name": "stdout",
     "output_type": "stream",
     "text": [
      "0.012429424379672468\n",
      "1.3978156677603755\n",
      "[[ 4.81284894  5.04678619  0.65330934  0.28064697  0.18288956 -0.02006725\n",
      "  -0.01474004 -0.2602384  -0.01891322  0.12987163]]\n"
     ]
    }
   ],
   "source": [
    "ridgeCv = RidgeCV(alphas = alphas, cv = 5, normalize = True)\n",
    "ridgeCv.fit(x_scale.transform(x_train3), y_train)\n",
    "print(ridgeCv.alpha_)\n",
    "ridgeF = Ridge(alpha = ridgeCv.alpha_, normalize = True)\n",
    "ridgeResult = ridgeF.fit(x_scale.transform(x_train3), y_train)\n",
    "x_test4 = x_test.copy()\n",
    "print(mean_squared_error(y_test, ridgeResult.predict(x_scale.transform(x_test4))))\n",
    "print(ridgeResult.coef_)"
   ]
  },
  {
   "cell_type": "markdown",
   "id": "db220c94",
   "metadata": {},
   "source": [
    "#### (e)"
   ]
  },
  {
   "cell_type": "code",
   "execution_count": 247,
   "id": "49e10d6c",
   "metadata": {},
   "outputs": [
    {
     "name": "stdout",
     "output_type": "stream",
     "text": [
      "1.3227538287385212\n"
     ]
    },
    {
     "data": {
      "text/html": [
       "<div>\n",
       "<style scoped>\n",
       "    .dataframe tbody tr th:only-of-type {\n",
       "        vertical-align: middle;\n",
       "    }\n",
       "\n",
       "    .dataframe tbody tr th {\n",
       "        vertical-align: top;\n",
       "    }\n",
       "\n",
       "    .dataframe thead th {\n",
       "        text-align: right;\n",
       "    }\n",
       "</style>\n",
       "<table border=\"1\" class=\"dataframe\">\n",
       "  <thead>\n",
       "    <tr style=\"text-align: right;\">\n",
       "      <th></th>\n",
       "      <th>coef</th>\n",
       "      <th>std err</th>\n",
       "      <th>t</th>\n",
       "      <th>P&gt;|t|</th>\n",
       "    </tr>\n",
       "  </thead>\n",
       "  <tbody>\n",
       "    <tr>\n",
       "      <th>x1</th>\n",
       "      <td>0.9700</td>\n",
       "      <td>0.021</td>\n",
       "      <td>45.822</td>\n",
       "      <td>0.000</td>\n",
       "    </tr>\n",
       "    <tr>\n",
       "      <th>x2</th>\n",
       "      <td>0.9872</td>\n",
       "      <td>0.021</td>\n",
       "      <td>47.678</td>\n",
       "      <td>0.000</td>\n",
       "    </tr>\n",
       "    <tr>\n",
       "      <th>x3</th>\n",
       "      <td>0.1328</td>\n",
       "      <td>0.023</td>\n",
       "      <td>5.742</td>\n",
       "      <td>0.000</td>\n",
       "    </tr>\n",
       "    <tr>\n",
       "      <th>x4</th>\n",
       "      <td>0.0621</td>\n",
       "      <td>0.024</td>\n",
       "      <td>2.639</td>\n",
       "      <td>0.010</td>\n",
       "    </tr>\n",
       "    <tr>\n",
       "      <th>x5</th>\n",
       "      <td>0.0344</td>\n",
       "      <td>0.020</td>\n",
       "      <td>1.694</td>\n",
       "      <td>0.094</td>\n",
       "    </tr>\n",
       "    <tr>\n",
       "      <th>x6</th>\n",
       "      <td>-0.0035</td>\n",
       "      <td>0.023</td>\n",
       "      <td>-0.154</td>\n",
       "      <td>0.878</td>\n",
       "    </tr>\n",
       "    <tr>\n",
       "      <th>x7</th>\n",
       "      <td>-0.0029</td>\n",
       "      <td>0.020</td>\n",
       "      <td>-0.150</td>\n",
       "      <td>0.881</td>\n",
       "    </tr>\n",
       "    <tr>\n",
       "      <th>x8</th>\n",
       "      <td>-0.0449</td>\n",
       "      <td>0.018</td>\n",
       "      <td>-2.430</td>\n",
       "      <td>0.017</td>\n",
       "    </tr>\n",
       "    <tr>\n",
       "      <th>x9</th>\n",
       "      <td>-0.0039</td>\n",
       "      <td>0.024</td>\n",
       "      <td>-0.164</td>\n",
       "      <td>0.870</td>\n",
       "    </tr>\n",
       "    <tr>\n",
       "      <th>x10</th>\n",
       "      <td>0.0294</td>\n",
       "      <td>0.023</td>\n",
       "      <td>1.273</td>\n",
       "      <td>0.206</td>\n",
       "    </tr>\n",
       "    <tr>\n",
       "      <th>intercept</th>\n",
       "      <td>0.0935</td>\n",
       "      <td>0.109</td>\n",
       "      <td>0.859</td>\n",
       "      <td>0.393</td>\n",
       "    </tr>\n",
       "  </tbody>\n",
       "</table>\n",
       "</div>"
      ],
      "text/plain": [
       "             coef  std err       t  P>|t|\n",
       "x1         0.9700    0.021  45.822  0.000\n",
       "x2         0.9872    0.021  47.678  0.000\n",
       "x3         0.1328    0.023   5.742  0.000\n",
       "x4         0.0621    0.024   2.639  0.010\n",
       "x5         0.0344    0.020   1.694  0.094\n",
       "x6        -0.0035    0.023  -0.154  0.878\n",
       "x7        -0.0029    0.020  -0.150  0.881\n",
       "x8        -0.0449    0.018  -2.430  0.017\n",
       "x9        -0.0039    0.024  -0.164  0.870\n",
       "x10        0.0294    0.023   1.273  0.206\n",
       "intercept  0.0935    0.109   0.859  0.393"
      ]
     },
     "execution_count": 247,
     "metadata": {},
     "output_type": "execute_result"
    }
   ],
   "source": [
    "x_trainO = x_train.copy()\n",
    "x_trainO['intercept']  = 1\n",
    "regres = sm.OLS(y_train, x_trainO)\n",
    "results = regres.fit()\n",
    "x_testO = x_test.copy()\n",
    "x_testO['intercept']  = 1\n",
    "pred_test = results.predict(x_testO)\n",
    "y_test2 = y_test.y\n",
    "mse = (np.mean((y_test2 - pred_test)**2))\n",
    "print(mse)\n",
    "summarize(results)"
   ]
  },
  {
   "cell_type": "markdown",
   "id": "7454df63",
   "metadata": {},
   "source": [
    "### Problem 2"
   ]
  },
  {
   "cell_type": "markdown",
   "id": "52014fe7",
   "metadata": {},
   "source": [
    "#### (a)"
   ]
  },
  {
   "cell_type": "code",
   "execution_count": 206,
   "id": "699730cb",
   "metadata": {},
   "outputs": [],
   "source": [
    "np.random.seed(1)\n",
    "mean = [10, 10, 10, 10, 10, 10, 10, 10, 10, 10]\n",
    "cov = [[1, 0.95, 0.95, 0.95, 0.95, 0.95, 0.95, 0.95, 0.95, 0.95],\n",
    "      [0.95, 1, 0.95, 0.95, 0.95, 0.95, 0.95, 0.95, 0.95, 0.95],\n",
    "      [0.95, 0.95, 1, 0.95, 0.95, 0.95, 0.95, 0.95, 0.95, 0.95],\n",
    "      [0.95, 0.95, 0.95, 1, 0.95, 0.95, 0.95, 0.95, 0.95, 0.95],\n",
    "      [0.95, 0.95, 0.95, 0.95, 1, 0.95, 0.95, 0.95, 0.95, 0.95],\n",
    "      [0.95, 0.95, 0.95, 0.95, 0.95, 1, 0.95, 0.95, 0.95, 0.95],\n",
    "      [0.95, 0.95, 0.95, 0.95, 0.95, 0.95, 1, 0.95, 0.95, 0.95],\n",
    "      [0.95, 0.95, 0.95, 0.95, 0.95, 0.95, 0.95, 1, 0.95, 0.95],\n",
    "      [0.95, 0.95, 0.95, 0.95, 0.95, 0.95, 0.95, 0.95, 1, 0.95],\n",
    "      [0.95, 0.95, 0.95, 0.95, 0.95, 0.95, 0.95, 0.95, 0.95, 1]]\n",
    "x1, x2, x3, x4, x5, x6, x7, x8, x9, x10 = np.random.multivariate_normal(mean, cov, 200).T\n",
    "e = np.random.normal(0, 0.001, 200)\n",
    "y = x1 + e\n",
    "xs = np.matrix([x1,x2,x3,x4,x5,x6,x7,x8,x9,x10]).T\n",
    "column_values = ['x1', 'x2', 'x3', 'x4', 'x5', 'x6', 'x7', 'x8', 'x9', 'x10']\n",
    "x_train = pd.DataFrame(data = xs[:100,:], columns = column_values)\n",
    "x_test = pd.DataFrame(data = xs[100:,:], columns = column_values)\n",
    "y_train = pd.DataFrame(data = y[:100, None], columns = ['y'])\n",
    "y_test = pd.DataFrame(data = y[100:, None], columns = ['y'])"
   ]
  },
  {
   "cell_type": "code",
   "execution_count": 207,
   "id": "840f846f",
   "metadata": {},
   "outputs": [
    {
     "data": {
      "image/png": "[encoded data removed]",
      "text/plain": [
       "<Figure size 432x288 with 1 Axes>"
      ]
     },
     "metadata": {
      "needs_background": "light"
     },
     "output_type": "display_data"
    }
   ],
   "source": [
    "alphas = 20**np.linspace(5,-5,100)\n",
    "coefs = pd.DataFrame(columns=['x1', 'x2', 'x3', 'x4', 'x5', 'x6', 'x7', 'x8', 'x9', 'x10', 'alpha'])\n",
    "lasso = Lasso(normalize = True)\n",
    "i = 0\n",
    "x_scale = StandardScaler().fit(x_train)\n",
    "for alpha in alphas:\n",
    "    lasso.set_params(alpha = alpha)\n",
    "    lasso.fit(x_scale.transform(x_train), y_train)\n",
    "    coefs.loc[i] = np.append(lasso.coef_, alpha)\n",
    "    i += 1\n",
    "ax = plt.gca()\n",
    "ax.plot(alphas, coefs['x1'], label = 'x1')\n",
    "ax.plot(alphas, coefs['x2'], label = 'x2')\n",
    "ax.plot(alphas, coefs['x3'], label = 'x3')\n",
    "ax.plot(alphas, coefs['x4'], label = 'x4')\n",
    "ax.plot(alphas, coefs['x5'], label = 'x5')\n",
    "ax.plot(alphas, coefs['x6'], label = 'x6')\n",
    "ax.plot(alphas, coefs['x7'], label = 'x7')\n",
    "ax.plot(alphas, coefs['x8'], label = 'x8')\n",
    "ax.plot(alphas, coefs['x9'], label = 'x9')\n",
    "ax.plot(alphas, coefs['x10'], label = 'x10')\n",
    "ax.set_xscale('log')\n",
    "plt.xlabel('Alpha')\n",
    "plt.ylabel('Coefficients')\n",
    "plt.legend()\n",
    "plt.show()"
   ]
  },
  {
   "cell_type": "code",
   "execution_count": 208,
   "id": "5b9ab213",
   "metadata": {},
   "outputs": [
    {
     "name": "stdout",
     "output_type": "stream",
     "text": [
      "4.759973810119685e-06\n",
      "9.10162893641468e-07\n",
      "[9.53809152e-01 9.49586711e-05 0.00000000e+00 0.00000000e+00\n",
      " 2.01649336e-05 0.00000000e+00 0.00000000e+00 0.00000000e+00\n",
      " 0.00000000e+00 0.00000000e+00]\n"
     ]
    }
   ],
   "source": [
    "lassoCv = LassoCV(alphas = alphas, cv = 5, normalize = True)\n",
    "lassoCv.fit(x_scale.transform(x_train), y_train)\n",
    "print(lassoCv.alpha_)\n",
    "lasso_alpha = lassoCv.alpha_\n",
    "lassoF = Lasso(alpha = lassoCv.alpha_, normalize = True)\n",
    "lassoResult = lassoF.fit(x_scale.transform(x_train), y_train)\n",
    "print(mean_squared_error(y_test, lassoResult.predict(x_scale.transform(x_test))))\n",
    "print(lassoResult.coef_)"
   ]
  },
  {
   "cell_type": "code",
   "execution_count": 209,
   "id": "1ea2bd2e",
   "metadata": {},
   "outputs": [
    {
     "data": {
      "image/png": "[encoded data removed]",
      "text/plain": [
       "<Figure size 432x288 with 1 Axes>"
      ]
     },
     "metadata": {
      "needs_background": "light"
     },
     "output_type": "display_data"
    }
   ],
   "source": [
    "alphas = 20**np.linspace(5,-5,100)\n",
    "coefs = pd.DataFrame(columns=['x1', 'x2', 'x3', 'x4', 'x5', 'x6', 'x7', 'x8', 'x9', 'x10', 'alpha'])\n",
    "x_scale = StandardScaler().fit(x_train)\n",
    "ridge = Ridge(normalize = True)\n",
    "i = 0\n",
    "for alpha in alphas:\n",
    "    ridge.set_params(alpha = alpha)\n",
    "    ridge.fit(x_scale.transform(x_train), y_train)\n",
    "    coefs.loc[i] = np.append(ridge.coef_, alpha)\n",
    "    i += 1\n",
    "ax = plt.gca()\n",
    "ax.plot(alphas, coefs['x1'], label = 'x1')\n",
    "ax.plot(alphas, coefs['x2'], label = 'x2')\n",
    "ax.plot(alphas, coefs['x3'], label = 'x3')\n",
    "ax.plot(alphas, coefs['x4'], label = 'x4')\n",
    "ax.plot(alphas, coefs['x5'], label = 'x5')\n",
    "ax.plot(alphas, coefs['x6'], label = 'x6')\n",
    "ax.plot(alphas, coefs['x7'], label = 'x7')\n",
    "ax.plot(alphas, coefs['x8'], label = 'x8')\n",
    "ax.plot(alphas, coefs['x9'], label = 'x9')\n",
    "ax.plot(alphas, coefs['x10'], label = 'x10')\n",
    "ax.set_xscale('log')\n",
    "plt.xlabel('Alpha')\n",
    "plt.ylabel('Coefficients')\n",
    "plt.legend()\n",
    "plt.show()"
   ]
  },
  {
   "cell_type": "code",
   "execution_count": 210,
   "id": "f5a184cd",
   "metadata": {},
   "outputs": [
    {
     "name": "stdout",
     "output_type": "stream",
     "text": [
      "3.125e-07\n",
      "9.818875978151139e-07\n",
      "[[ 9.53254271e-01  1.91588995e-04  2.26586734e-05 -4.29629741e-04\n",
      "   3.97461957e-04  1.86684870e-04  3.76813123e-05 -1.89356948e-04\n",
      "   1.15566164e-04  3.65750658e-04]]\n"
     ]
    }
   ],
   "source": [
    "ridgeCv = RidgeCV(alphas = alphas, cv = 5, normalize = True)\n",
    "ridgeCv.fit(x_scale.transform(x_train), y_train)\n",
    "print(ridgeCv.alpha_)\n",
    "ridge_alpha = ridgeCv.alpha_\n",
    "ridgeF = Ridge(alpha = ridgeCv.alpha_, normalize = True)\n",
    "ridgeResult = ridgeF.fit(x_scale.transform(x_train), y_train)\n",
    "print(mean_squared_error(y_test, ridgeResult.predict(x_scale.transform(x_test))))\n",
    "print(ridgeResult.coef_)"
   ]
  },
  {
   "cell_type": "markdown",
   "id": "4edb8ed1",
   "metadata": {},
   "source": [
    "#### (b)"
   ]
  },
  {
   "cell_type": "code",
   "execution_count": 211,
   "id": "aca8b3fa",
   "metadata": {},
   "outputs": [
    {
     "name": "stdout",
     "output_type": "stream",
     "text": [
      "x1     5.469406e-03\n",
      "x2     7.493488e-10\n",
      "x3     4.336840e-10\n",
      "x4     2.715181e-10\n",
      "x5     2.641625e-10\n",
      "x6     5.595887e-10\n",
      "x7     1.331734e-10\n",
      "x8     1.762104e-10\n",
      "x9     8.103498e-11\n",
      "x10    7.023902e-11\n",
      "dtype: float64\n",
      "x1     5.475647e-03\n",
      "x2     1.618113e-07\n",
      "x3     1.514894e-07\n",
      "x4     1.179264e-07\n",
      "x5     2.368494e-07\n",
      "x6     2.370820e-07\n",
      "x7     2.155199e-07\n",
      "x8     1.846091e-07\n",
      "x9     1.959632e-07\n",
      "x10    2.216109e-07\n",
      "dtype: float64\n"
     ]
    }
   ],
   "source": [
    "np.random.seed(1)\n",
    "mean = [10, 10, 10, 10, 10, 10, 10, 10, 10, 10]\n",
    "cov = [[1, 0.95, 0.95, 0.95, 0.95, 0.95, 0.95, 0.95, 0.95, 0.95],\n",
    "      [0.95, 1, 0.95, 0.95, 0.95, 0.95, 0.95, 0.95, 0.95, 0.95],\n",
    "      [0.95, 0.95, 1, 0.95, 0.95, 0.95, 0.95, 0.95, 0.95, 0.95],\n",
    "      [0.95, 0.95, 0.95, 1, 0.95, 0.95, 0.95, 0.95, 0.95, 0.95],\n",
    "      [0.95, 0.95, 0.95, 0.95, 1, 0.95, 0.95, 0.95, 0.95, 0.95],\n",
    "      [0.95, 0.95, 0.95, 0.95, 0.95, 1, 0.95, 0.95, 0.95, 0.95],\n",
    "      [0.95, 0.95, 0.95, 0.95, 0.95, 0.95, 1, 0.95, 0.95, 0.95],\n",
    "      [0.95, 0.95, 0.95, 0.95, 0.95, 0.95, 0.95, 1, 0.95, 0.95],\n",
    "      [0.95, 0.95, 0.95, 0.95, 0.95, 0.95, 0.95, 0.95, 1, 0.95],\n",
    "      [0.95, 0.95, 0.95, 0.95, 0.95, 0.95, 0.95, 0.95, 0.95, 1]]\n",
    "lassoCoefs = pd.DataFrame(columns=['x1', 'x2', 'x3', 'x4', 'x5', 'x6', 'x7', 'x8', 'x9', 'x10'])\n",
    "ridgeCoefs = pd.DataFrame(columns=['x1', 'x2', 'x3', 'x4', 'x5', 'x6', 'x7', 'x8', 'x9', 'x10'])\n",
    "for i in range(50):\n",
    "    x1, x2, x3, x4, x5, x6, x7, x8, x9, x10 = np.random.multivariate_normal(mean, cov, 100).T\n",
    "    e = np.random.normal(0, 0.001, 100)\n",
    "    y = x1 + e\n",
    "    xs = np.matrix([x1,x2,x3,x4,x5,x6,x7,x8,x9,x10]).T\n",
    "    column_values = ['x1', 'x2', 'x3', 'x4', 'x5', 'x6', 'x7', 'x8', 'x9', 'x10']\n",
    "    x = pd.DataFrame(data = xs[:,:], columns = column_values)\n",
    "    y = pd.DataFrame(data = y[:, None], columns = ['y'])\n",
    "    x_scale = StandardScaler().fit(x)\n",
    "\n",
    "    lassoF = Lasso(alpha = lasso_alpha, normalize = True)\n",
    "    lassoResult = lassoF.fit(x_scale.transform(x), y)\n",
    "    lassoCoefs.loc[i] = lassoResult.coef_\n",
    "    \n",
    "    ridgeF = Ridge(alpha = ridge_alpha, normalize = True)\n",
    "    ridgeResult = ridgeF.fit(x_scale.transform(x), y)\n",
    "    ridgeCoefs.loc[i] = ridgeResult.coef_.flatten()\n",
    "print(np.var(lassoCoefs))\n",
    "print(np.var(ridgeCoefs))"
   ]
  },
  {
   "cell_type": "markdown",
   "id": "968c8b0c",
   "metadata": {},
   "source": [
    "#### (c)"
   ]
  },
  {
   "cell_type": "code",
   "execution_count": 212,
   "id": "41ad34aa",
   "metadata": {},
   "outputs": [],
   "source": [
    "np.random.seed(1)\n",
    "mean = [10, 10, 10, 10, 10, 10, 10, 10, 10, 10]\n",
    "cov = [[1, 0.95, 0.95, 0.95, 0.95, 0.95, 0.95, 0.95, 0.95, 0.95],\n",
    "      [0.95, 1, 0.95, 0.95, 0.95, 0.95, 0.95, 0.95, 0.95, 0.95],\n",
    "      [0.95, 0.95, 1, 0.95, 0.95, 0.95, 0.95, 0.95, 0.95, 0.95],\n",
    "      [0.95, 0.95, 0.95, 1, 0.95, 0.95, 0.95, 0.95, 0.95, 0.95],\n",
    "      [0.95, 0.95, 0.95, 0.95, 1, 0.95, 0.95, 0.95, 0.95, 0.95],\n",
    "      [0.95, 0.95, 0.95, 0.95, 0.95, 1, 0.95, 0.95, 0.95, 0.95],\n",
    "      [0.95, 0.95, 0.95, 0.95, 0.95, 0.95, 1, 0.95, 0.95, 0.95],\n",
    "      [0.95, 0.95, 0.95, 0.95, 0.95, 0.95, 0.95, 1, 0.95, 0.95],\n",
    "      [0.95, 0.95, 0.95, 0.95, 0.95, 0.95, 0.95, 0.95, 1, 0.95],\n",
    "      [0.95, 0.95, 0.95, 0.95, 0.95, 0.95, 0.95, 0.95, 0.95, 1]]\n",
    "x1, x2, x3, x4, x5, x6, x7, x8, x9, x10 = np.random.multivariate_normal(mean, cov, 200).T\n",
    "e = np.random.normal(0, 0.001, 200)\n",
    "y = x1 + e\n",
    "xs = np.matrix([x1,x2,x3,x4,x5,x6,x7,x8,x9,x10]).T\n",
    "column_values = ['x1', 'x2', 'x3', 'x4', 'x5', 'x6', 'x7', 'x8', 'x9', 'x10']\n",
    "x_train = pd.DataFrame(data = xs[:100,:], columns = column_values)\n",
    "x_test = pd.DataFrame(data = xs[100:,:], columns = column_values)\n",
    "y_train = pd.DataFrame(data = y[:100, None], columns = ['y'])\n",
    "y_test = pd.DataFrame(data = y[100:, None], columns = ['y'])"
   ]
  },
  {
   "cell_type": "code",
   "execution_count": 213,
   "id": "10f5180d",
   "metadata": {},
   "outputs": [
    {
     "data": {
      "image/png": "[encoded data removed]",
      "text/plain": [
       "<Figure size 432x288 with 1 Axes>"
      ]
     },
     "metadata": {
      "needs_background": "light"
     },
     "output_type": "display_data"
    }
   ],
   "source": [
    "alphas = 20**np.linspace(5,-5,100)\n",
    "coefs = pd.DataFrame(columns=['x1', 'x2', 'x3', 'x4', 'x5', 'x6', 'x7', 'x8', 'x9', 'x10', 'alpha'])\n",
    "elastic = ElasticNet(l1_ratio = 0.5, normalize = True)\n",
    "x_scale = StandardScaler().fit(x_train)\n",
    "i = 0\n",
    "for alpha in alphas:\n",
    "    elastic.set_params(alpha = alpha)\n",
    "    elastic.fit(x_scale.transform(x_train), y_train)\n",
    "    coefs.loc[i] = np.append(elastic.coef_, alpha)\n",
    "    i += 1\n",
    "ax = plt.gca()\n",
    "ax.plot(alphas, coefs['x1'], label = 'x1')\n",
    "ax.plot(alphas, coefs['x2'], label = 'x2')\n",
    "ax.plot(alphas, coefs['x3'], label = 'x3')\n",
    "ax.plot(alphas, coefs['x4'], label = 'x4')\n",
    "ax.plot(alphas, coefs['x5'], label = 'x5')\n",
    "ax.plot(alphas, coefs['x6'], label = 'x6')\n",
    "ax.plot(alphas, coefs['x7'], label = 'x7')\n",
    "ax.plot(alphas, coefs['x8'], label = 'x8')\n",
    "ax.plot(alphas, coefs['x9'], label = 'x9')\n",
    "ax.plot(alphas, coefs['x10'], label = 'x10')\n",
    "ax.set_xscale('log')\n",
    "plt.xlabel('Alpha')\n",
    "plt.ylabel('Coefficients')\n",
    "plt.legend()\n",
    "plt.show()"
   ]
  },
  {
   "cell_type": "code",
   "execution_count": 214,
   "id": "05d36e33",
   "metadata": {},
   "outputs": [
    {
     "name": "stdout",
     "output_type": "stream",
     "text": [
      "3.125e-07\n",
      "9.188912510223448e-07\n",
      "[ 9.53826477e-01  1.25914057e-04 -3.37956832e-05 -2.90661135e-05\n",
      "  8.08391070e-05 -1.76152716e-05 -1.40770796e-05 -3.41831753e-05\n",
      "  4.33811550e-05  2.20407684e-05]\n"
     ]
    }
   ],
   "source": [
    "elasticCv = ElasticNetCV(alphas = alphas, cv = 5, normalize = True)\n",
    "elasticCv.fit(x_scale.transform(x_train), y_train)\n",
    "print(elasticCv.alpha_)\n",
    "elastic_alpha = elasticCv.alpha_\n",
    "elasticF = ElasticNet(alpha = elasticCv.alpha_, normalize = True)\n",
    "elasticResult = elasticF.fit(x_scale.transform(x_train), y_train)\n",
    "print(mean_squared_error(y_test, elasticResult.predict(x_scale.transform(x_test))))\n",
    "print(elasticResult.coef_)"
   ]
  },
  {
   "cell_type": "code",
   "execution_count": 215,
   "id": "eaab2484",
   "metadata": {},
   "outputs": [
    {
     "name": "stdout",
     "output_type": "stream",
     "text": [
      "x1     5.469195e-03\n",
      "x2     2.068142e-09\n",
      "x3     4.512040e-09\n",
      "x4     2.208701e-09\n",
      "x5     3.110290e-09\n",
      "x6     1.838509e-08\n",
      "x7     4.167341e-09\n",
      "x8     2.498644e-09\n",
      "x9     3.267827e-09\n",
      "x10    3.225410e-09\n",
      "dtype: float64\n"
     ]
    }
   ],
   "source": [
    "np.random.seed(1)\n",
    "mean = [10, 10, 10, 10, 10, 10, 10, 10, 10, 10]\n",
    "cov = [[1, 0.95, 0.95, 0.95, 0.95, 0.95, 0.95, 0.95, 0.95, 0.95],\n",
    "      [0.95, 1, 0.95, 0.95, 0.95, 0.95, 0.95, 0.95, 0.95, 0.95],\n",
    "      [0.95, 0.95, 1, 0.95, 0.95, 0.95, 0.95, 0.95, 0.95, 0.95],\n",
    "      [0.95, 0.95, 0.95, 1, 0.95, 0.95, 0.95, 0.95, 0.95, 0.95],\n",
    "      [0.95, 0.95, 0.95, 0.95, 1, 0.95, 0.95, 0.95, 0.95, 0.95],\n",
    "      [0.95, 0.95, 0.95, 0.95, 0.95, 1, 0.95, 0.95, 0.95, 0.95],\n",
    "      [0.95, 0.95, 0.95, 0.95, 0.95, 0.95, 1, 0.95, 0.95, 0.95],\n",
    "      [0.95, 0.95, 0.95, 0.95, 0.95, 0.95, 0.95, 1, 0.95, 0.95],\n",
    "      [0.95, 0.95, 0.95, 0.95, 0.95, 0.95, 0.95, 0.95, 1, 0.95],\n",
    "      [0.95, 0.95, 0.95, 0.95, 0.95, 0.95, 0.95, 0.95, 0.95, 1]]\n",
    "elasticCoefs = pd.DataFrame(columns=['x1', 'x2', 'x3', 'x4', 'x5', 'x6', 'x7', 'x8', 'x9', 'x10'])\n",
    "for i in range(50):\n",
    "    x1, x2, x3, x4, x5, x6, x7, x8, x9, x10 = np.random.multivariate_normal(mean, cov, 100).T\n",
    "    e = np.random.normal(0, 0.001, 100)\n",
    "    y = x1 + e\n",
    "    xs = np.matrix([x1,x2,x3,x4,x5,x6,x7,x8,x9,x10]).T\n",
    "    column_values = ['x1', 'x2', 'x3', 'x4', 'x5', 'x6', 'x7', 'x8', 'x9', 'x10']\n",
    "    x = pd.DataFrame(data = xs[:,:], columns = column_values)\n",
    "    y = pd.DataFrame(data = y[:, None], columns = ['y'])\n",
    "    x_scale = StandardScaler().fit(x)\n",
    "\n",
    "    elasticF = ElasticNet(alpha = elastic_alpha, normalize = True)\n",
    "    elasticResult = elasticF.fit(x_scale.transform(x), y)\n",
    "    elasticCoefs.loc[i] = elasticResult.coef_\n",
    "print(np.var(elasticCoefs))"
   ]
  },
  {
   "cell_type": "markdown",
   "id": "40bcaeed",
   "metadata": {},
   "source": [
    "### Problem 3"
   ]
  },
  {
   "cell_type": "code",
   "execution_count": 231,
   "id": "3b7fea0d",
   "metadata": {},
   "outputs": [],
   "source": [
    "farm = pd.read_csv('/Users/zach/Jupyter/DATA 558/framingham.csv')\n",
    "farm = farm[(farm['chol0'] != -9) & (farm['chol2'] != -9) & (farm['chol4'] != -9) & (farm['chol6'] != -9) & (farm['chol8'] != -9) & (farm['chol10'] != -9)]\n",
    "x = farm[['age', 'sex', 'BMI0', 'BMI10', 'cigarettes', 'chol0', 'chol2', 'chol4', 'chol6', 'chol8', 'chol10']]\n",
    "y = farm[['death']]"
   ]
  },
  {
   "cell_type": "markdown",
   "id": "1bde9d7c",
   "metadata": {},
   "source": [
    "#### (a)"
   ]
  },
  {
   "cell_type": "code",
   "execution_count": 232,
   "id": "ec24aa16",
   "metadata": {},
   "outputs": [],
   "source": [
    "def lasso(x, y, covars):\n",
    "    x_scale = StandardScaler().fit(x)\n",
    "    lassoCv = LogisticRegressionCV(cv = 5, penalty='l1', solver = 'saga', scoring = 'accuracy')\n",
    "    lassoCv.fit(x_scale.transform(x), y)\n",
    "    print(lassoCv.score(x_scale.transform(x),y))\n",
    "    return lassoCv.coef_"
   ]
  },
  {
   "cell_type": "code",
   "execution_count": 233,
   "id": "9311baa2",
   "metadata": {},
   "outputs": [
    {
     "name": "stdout",
     "output_type": "stream",
     "text": [
      "0.8054429646786335\n"
     ]
    },
    {
     "data": {
      "text/plain": [
       "array([[ 0.85235307, -0.15817712,  0.        ,  0.        ,  0.24553962,\n",
       "         0.        ,  0.        ,  0.        ,  0.        ,  0.        ,\n",
       "         0.        ]])"
      ]
     },
     "execution_count": 233,
     "metadata": {},
     "output_type": "execute_result"
    }
   ],
   "source": [
    "lasso(x, y, x.columns)"
   ]
  },
  {
   "cell_type": "markdown",
   "id": "64c5847d",
   "metadata": {},
   "source": [
    "#### (b)"
   ]
  },
  {
   "cell_type": "code",
   "execution_count": 234,
   "id": "79ae3395",
   "metadata": {},
   "outputs": [],
   "source": [
    "def ridge(x, y, covars):\n",
    "    x_scale = StandardScaler().fit(x)\n",
    "    ridgeCv = LogisticRegressionCV(cv = 5, penalty='l2', solver = 'saga', scoring = 'accuracy')\n",
    "    ridgeCv.fit(x_scale.transform(x), y)\n",
    "    print(ridgeCv.score(x_scale.transform(x),y))\n",
    "    return ridgeCv.coef_"
   ]
  },
  {
   "cell_type": "code",
   "execution_count": 235,
   "id": "fa343c02",
   "metadata": {},
   "outputs": [
    {
     "name": "stdout",
     "output_type": "stream",
     "text": [
      "0.8071800810654314\n"
     ]
    },
    {
     "data": {
      "text/plain": [
       "array([[ 0.98572068, -0.23940039,  0.16952798, -0.17660438,  0.34068501,\n",
       "         0.1122008 ,  0.01295523, -0.09598053, -0.20990452, -0.08147377,\n",
       "         0.24217136]])"
      ]
     },
     "execution_count": 235,
     "metadata": {},
     "output_type": "execute_result"
    }
   ],
   "source": [
    "ridge(x, y, x.columns)"
   ]
  },
  {
   "cell_type": "markdown",
   "id": "86788726",
   "metadata": {},
   "source": [
    "#### (c)"
   ]
  },
  {
   "cell_type": "code",
   "execution_count": 236,
   "id": "c8863fb8",
   "metadata": {},
   "outputs": [
    {
     "name": "stdout",
     "output_type": "stream",
     "text": [
      "         coef  std err       z  P>|z|\n",
      "const  0.0000    0.000     NaN    NaN\n",
      "x1     0.6655    0.058  11.389  0.000\n",
      "x2    -0.1483    0.057  -2.616  0.009\n",
      "x3     0.0738    0.098   0.752  0.452\n",
      "x4    -0.0986    0.096  -1.023  0.306\n",
      "x5     0.2155    0.057   3.767  0.000\n",
      "x6     0.0785    0.086   0.916  0.360\n",
      "x7     0.0027    0.092   0.030  0.976\n",
      "x8    -0.0675    0.095  -0.711  0.477\n",
      "x9    -0.1566    0.101  -1.558  0.119\n",
      "x10   -0.0397    0.104  -0.382  0.703\n",
      "x11    0.1247    0.100   1.243  0.214\n"
     ]
    }
   ],
   "source": [
    "x = sm.add_constant(x)\n",
    "x_scale = StandardScaler().fit(x)\n",
    "glm = sm.GLM(y, x_scale.transform(x), family=sm.families.Binomial()) \n",
    "results = glm.fit()\n",
    "print(summarize(results))"
   ]
  }
 ],
 "metadata": {
  "kernelspec": {
   "display_name": "Python 3 (ipykernel)",
   "language": "python",
   "name": "python3"
  },
  "language_info": {
   "codemirror_mode": {
    "name": "ipython",
    "version": 3
   },
   "file_extension": ".py",
   "mimetype": "text/x-python",
   "name": "python",
   "nbconvert_exporter": "python",
   "pygments_lexer": "ipython3",
   "version": "3.9.12"
  }
 },
 "nbformat": 4,
 "nbformat_minor": 5
}
